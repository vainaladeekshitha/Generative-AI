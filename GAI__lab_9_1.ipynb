{
  "nbformat": 4,
  "nbformat_minor": 0,
  "metadata": {
    "colab": {
      "provenance": [],
      "authorship_tag": "ABX9TyMM2VllBBWuFnFzKowh8Cta",
      "include_colab_link": true
    },
    "kernelspec": {
      "name": "python3",
      "display_name": "Python 3"
    },
    "language_info": {
      "name": "python"
    }
  },
  "cells": [
    {
      "cell_type": "markdown",
      "metadata": {
        "id": "view-in-github",
        "colab_type": "text"
      },
      "source": [
        "<a href=\"https://colab.research.google.com/github/vainaladeekshitha/Generative-AI/blob/main/GAI__lab_9_1.ipynb\" target=\"_parent\"><img src=\"https://colab.research.google.com/assets/colab-badge.svg\" alt=\"Open In Colab\"/></a>"
      ]
    },
    {
      "cell_type": "code",
      "execution_count": 2,
      "metadata": {
        "colab": {
          "base_uri": "https://localhost:8080/"
        },
        "id": "iXD-UE3JmI7b",
        "outputId": "042a656c-48a3-4c52-80b2-62c626695d15"
      },
      "outputs": [
        {
          "output_type": "stream",
          "name": "stdout",
          "text": [
            "Epoch 1/10\n",
            "\u001b[1m469/469\u001b[0m \u001b[32m━━━━━━━━━━━━━━━━━━━━\u001b[0m\u001b[37m\u001b[0m \u001b[1m5s\u001b[0m 8ms/step - accuracy: 0.0843 - loss: 2.3276 - val_accuracy: 0.0975 - val_loss: 2.3158\n",
            "Epoch 2/10\n",
            "\u001b[1m469/469\u001b[0m \u001b[32m━━━━━━━━━━━━━━━━━━━━\u001b[0m\u001b[37m\u001b[0m \u001b[1m5s\u001b[0m 7ms/step - accuracy: 0.0997 - loss: 2.3116 - val_accuracy: 0.1196 - val_loss: 2.2993\n",
            "Epoch 3/10\n",
            "\u001b[1m469/469\u001b[0m \u001b[32m━━━━━━━━━━━━━━━━━━━━\u001b[0m\u001b[37m\u001b[0m \u001b[1m4s\u001b[0m 4ms/step - accuracy: 0.1216 - loss: 2.2956 - val_accuracy: 0.1437 - val_loss: 2.2823\n",
            "Epoch 4/10\n",
            "\u001b[1m469/469\u001b[0m \u001b[32m━━━━━━━━━━━━━━━━━━━━\u001b[0m\u001b[37m\u001b[0m \u001b[1m2s\u001b[0m 4ms/step - accuracy: 0.1444 - loss: 2.2783 - val_accuracy: 0.1649 - val_loss: 2.2652\n",
            "Epoch 5/10\n",
            "\u001b[1m469/469\u001b[0m \u001b[32m━━━━━━━━━━━━━━━━━━━━\u001b[0m\u001b[37m\u001b[0m \u001b[1m3s\u001b[0m 4ms/step - accuracy: 0.1649 - loss: 2.2602 - val_accuracy: 0.1800 - val_loss: 2.2478\n",
            "Epoch 6/10\n",
            "\u001b[1m469/469\u001b[0m \u001b[32m━━━━━━━━━━━━━━━━━━━━\u001b[0m\u001b[37m\u001b[0m \u001b[1m3s\u001b[0m 6ms/step - accuracy: 0.1772 - loss: 2.2444 - val_accuracy: 0.1932 - val_loss: 2.2303\n",
            "Epoch 7/10\n",
            "\u001b[1m469/469\u001b[0m \u001b[32m━━━━━━━━━━━━━━━━━━━━\u001b[0m\u001b[37m\u001b[0m \u001b[1m3s\u001b[0m 5ms/step - accuracy: 0.1891 - loss: 2.2268 - val_accuracy: 0.2007 - val_loss: 2.2124\n",
            "Epoch 8/10\n",
            "\u001b[1m469/469\u001b[0m \u001b[32m━━━━━━━━━━━━━━━━━━━━\u001b[0m\u001b[37m\u001b[0m \u001b[1m2s\u001b[0m 4ms/step - accuracy: 0.1990 - loss: 2.2096 - val_accuracy: 0.2089 - val_loss: 2.1940\n",
            "Epoch 9/10\n",
            "\u001b[1m469/469\u001b[0m \u001b[32m━━━━━━━━━━━━━━━━━━━━\u001b[0m\u001b[37m\u001b[0m \u001b[1m2s\u001b[0m 4ms/step - accuracy: 0.2084 - loss: 2.1914 - val_accuracy: 0.2215 - val_loss: 2.1752\n",
            "Epoch 10/10\n",
            "\u001b[1m469/469\u001b[0m \u001b[32m━━━━━━━━━━━━━━━━━━━━\u001b[0m\u001b[37m\u001b[0m \u001b[1m2s\u001b[0m 4ms/step - accuracy: 0.2163 - loss: 2.1721 - val_accuracy: 0.2325 - val_loss: 2.1558\n",
            "Training Accuracy: 0.2242\n",
            "Testing Accuracy: 0.2325\n",
            "Best Architecture: {'layers': [128, 128, 128], 'activation': 'tanh'}\n",
            "Best Testing Accuracy: 0.7406\n"
          ]
        }
      ],
      "source": [
        "# Import necessary libraries\n",
        "import tensorflow as tf\n",
        "from tensorflow import keras\n",
        "from tensorflow.keras.models import Sequential\n",
        "from tensorflow.keras.layers import Dense, Flatten\n",
        "from tensorflow.keras.optimizers import Adadelta\n",
        "from tensorflow.keras.datasets import mnist\n",
        "import numpy as np\n",
        "\n",
        "# Load the MNIST dataset\n",
        "(x_train, y_train), (x_test, y_test) = mnist.load_data()\n",
        "\n",
        "# Normalize the data (scaling pixel values to range [0,1])\n",
        "x_train, x_test = x_train / 255.0, x_test / 255.0\n",
        "\n",
        "# Define the ANN Model Architecture\n",
        "def build_model(hidden_layers=[32, 32, 32], activation='relu'):\n",
        "    model = Sequential()\n",
        "    model.add(Flatten(input_shape=(28, 28)))  # Flatten input image (28x28) to a vector\n",
        "\n",
        "    # Add hidden layers\n",
        "    for neurons in hidden_layers:\n",
        "        model.add(Dense(neurons, activation=activation))\n",
        "\n",
        "    model.add(Dense(10, activation='softmax'))  # Output layer for 10 digit classes\n",
        "\n",
        "    # Compile the model\n",
        "    model.compile(optimizer=Adadelta(),\n",
        "                  loss='sparse_categorical_crossentropy',\n",
        "                  metrics=['accuracy'])\n",
        "    return model\n",
        "\n",
        "# Train and evaluate the default model\n",
        "model = build_model()\n",
        "history = model.fit(x_train, y_train, epochs=10, batch_size=128, validation_data=(x_test, y_test), verbose=1)\n",
        "\n",
        "# Evaluate performance\n",
        "train_loss, train_acc = model.evaluate(x_train, y_train, verbose=0)\n",
        "test_loss, test_acc = model.evaluate(x_test, y_test, verbose=0)\n",
        "\n",
        "# Print accuracy results\n",
        "print(f\"Training Accuracy: {train_acc:.4f}\")\n",
        "print(f\"Testing Accuracy: {test_acc:.4f}\")\n",
        "\n",
        "# Hyperparameter tuning (experimenting with different architectures)\n",
        "tuned_models = [\n",
        "    {\"layers\": [64, 64], \"activation\": \"relu\"},\n",
        "    {\"layers\": [128, 64, 32], \"activation\": \"relu\"},\n",
        "    {\"layers\": [256, 128, 64], \"activation\": \"relu\"},\n",
        "    {\"layers\": [128, 128, 128], \"activation\": \"tanh\"},\n",
        "]\n",
        "\n",
        "best_acc = 0\n",
        "best_model_config = None\n",
        "\n",
        "# Train and evaluate each model\n",
        "for config in tuned_models:\n",
        "    model = build_model(hidden_layers=config[\"layers\"], activation=config[\"activation\"])\n",
        "    model.fit(x_train, y_train, epochs=10, batch_size=128, validation_data=(x_test, y_test), verbose=0)\n",
        "\n",
        "    _, test_acc = model.evaluate(x_test, y_test, verbose=0)\n",
        "\n",
        "    if test_acc > best_acc:\n",
        "        best_acc = test_acc\n",
        "        best_model_config = config\n",
        "\n",
        "# Print the best model configuration\n",
        "print(\"Best Architecture:\", best_model_config)\n",
        "print(f\"Best Testing Accuracy: {best_acc:.4f}\")"
      ]
    }
  ]
}