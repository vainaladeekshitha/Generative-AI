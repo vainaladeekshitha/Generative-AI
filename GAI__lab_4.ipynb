{
  "nbformat": 4,
  "nbformat_minor": 0,
  "metadata": {
    "colab": {
      "provenance": [],
      "authorship_tag": "ABX9TyOAlT1aMM7cpEo18iJLseRp",
      "include_colab_link": true
    },
    "kernelspec": {
      "name": "python3",
      "display_name": "Python 3"
    },
    "language_info": {
      "name": "python"
    }
  },
  "cells": [
    {
      "cell_type": "markdown",
      "metadata": {
        "id": "view-in-github",
        "colab_type": "text"
      },
      "source": [
        "<a href=\"https://colab.research.google.com/github/vainaladeekshitha/Generative-AI/blob/main/GAI__lab_4.ipynb\" target=\"_parent\"><img src=\"https://colab.research.google.com/assets/colab-badge.svg\" alt=\"Open In Colab\"/></a>"
      ]
    },
    {
      "cell_type": "markdown",
      "source": [
        "Question-1"
      ],
      "metadata": {
        "id": "Vv7tJw95SShk"
      }
    },
    {
      "cell_type": "code",
      "source": [
        "import numpy as np\n",
        "\n",
        "# Training Data\n",
        "X_train = np.array([\n",
        "    [0.1, 0.2, 0.3],\n",
        "    [0.2, 0.3, 0.4],\n",
        "    [0.3, 0.4, 0.5],\n",
        "    [0.5, 0.6, 0.7],\n",
        "    [0.1, 0.3, 0.5],\n",
        "    [0.2, 0.4, 0.6],\n",
        "    [0.3, 0.5, 0.7],\n",
        "    [0.4, 0.6, 0.8],\n",
        "    [0.5, 0.7, 0.1]\n",
        "])\n",
        "\n",
        "y_train = np.array([0.14, 0.20, 0.26, 0.38, 0.22, 0.28, 0.34, 0.40, 0.22])\n",
        "\n",
        "# Test Data\n",
        "X_test = np.array([\n",
        "    [0.6, 0.7, 0.8],\n",
        "    [0.7, 0.8, 0.9]\n",
        "])\n",
        "\n",
        "y_test = np.array([0.44, 0.50])\n",
        "\n",
        "# Initialize weights and bias\n",
        "np.random.seed(42)  # For reproducibility\n",
        "weights = np.random.rand(3)\n",
        "bias = np.random.rand(1)\n",
        "\n",
        "# Hyperparameters\n",
        "learning_rate = 0.01\n",
        "epochs = 100\n",
        "\n",
        "# Training the model using gradient descent\n",
        "for epoch in range(epochs):\n",
        "    y_pred = np.dot(X_train, weights) + bias  # Forward pass (Linear function)\n",
        "    error = y_pred - y_train  # Error computation\n",
        "\n",
        "    # Compute gradients\n",
        "    dW = np.dot(X_train.T, error) / len(X_train)\n",
        "    dB = np.sum(error) / len(X_train)\n",
        "\n",
        "    # Update weights and bias\n",
        "    weights -= learning_rate * dW\n",
        "    bias -= learning_rate * dB\n",
        "\n",
        "    # Print loss every 100 epochs\n",
        "    if epoch % 100 == 0:\n",
        "        mse = np.mean(error ** 2)\n",
        "        print(f\"Epoch {epoch}: MSE = {mse:.6f}\")\n",
        "\n",
        "# Calculate MSE for training and test data\n",
        "def mean_squared_error(X, y):\n",
        "    y_pred = np.dot(X, weights) + bias\n",
        "    return np.mean((y_pred - y) ** 2)\n",
        "\n",
        "train_mse = mean_squared_error(X_train, y_train)\n",
        "test_mse = mean_squared_error(X_test, y_test)\n",
        "\n",
        "print(f\"Final Training MSE: {train_mse:.6f}\")\n",
        "print(f\"Final Test MSE: {test_mse:.6f}\")\n",
        "\n",
        "# User Input Prediction\n",
        "user_input = np.array(list(map(float, input(\"Enter x1, x2, x3: \").split())))\n",
        "predicted_output = np.dot(user_input, weights) + bias\n",
        "print(f\"Predicted Output: {predicted_output[0]:.6f}\")"
      ],
      "metadata": {
        "colab": {
          "base_uri": "https://localhost:8080/"
        },
        "id": "4Oo_YYZzSZId",
        "outputId": "8a39257b-63df-410c-ce3f-1022598070fa"
      },
      "execution_count": 1,
      "outputs": [
        {
          "output_type": "stream",
          "name": "stdout",
          "text": [
            "Epoch 0: MSE = 1.555423\n",
            "Final Training MSE: 0.070971\n",
            "Final Test MSE: 0.206000\n",
            "Enter x1, x2, x3: 0.1 0.2 0.3\n",
            "Predicted Output: 0.244271\n"
          ]
        }
      ]
    },
    {
      "cell_type": "markdown",
      "source": [
        "Question-2"
      ],
      "metadata": {
        "id": "dWTHMmB_TGvv"
      }
    },
    {
      "cell_type": "code",
      "source": [
        "import numpy as np\n",
        "\n",
        "def sigmoid(x):\n",
        "    return 1 / (1 + np.exp(-x))\n",
        "\n",
        "def sigmoid_derivative(x):\n",
        "    return x * (1 - x)\n",
        "\n",
        "def train_ann(X, y, epochs=1000, learning_rate=0.1):\n",
        "    np.random.seed(42)\n",
        "    weights = np.random.rand(X.shape[1])\n",
        "    bias = np.random.rand()\n",
        "\n",
        "    for _ in range(epochs):\n",
        "        # Forward pass\n",
        "        linear_output = np.dot(X, weights) + bias\n",
        "        y_pred = sigmoid(linear_output)\n",
        "\n",
        "        # Compute error\n",
        "        error = y - y_pred\n",
        "\n",
        "        # Backpropagation\n",
        "        d_weights = np.dot(X.T, error * sigmoid_derivative(y_pred)) / X.shape[0]\n",
        "        d_bias = np.sum(error * sigmoid_derivative(y_pred)) / X.shape[0]\n",
        "\n",
        "        # Update weights and bias\n",
        "        weights += learning_rate * d_weights\n",
        "        bias += learning_rate * d_bias\n",
        "\n",
        "    return weights, bias\n",
        "\n",
        "def mean_squared_error(y_true, y_pred):\n",
        "    return np.mean((y_true - y_pred) ** 2)\n",
        "\n",
        "def predict(X, weights, bias):\n",
        "    return sigmoid(np.dot(X, weights) + bias)\n",
        "\n",
        "# Training Data\n",
        "train_X = np.array([\n",
        "    [0.1, 0.2, 0.3],\n",
        "    [0.2, 0.3, 0.4],\n",
        "    [0.3, 0.4, 0.5],\n",
        "    [0.5, 0.6, 0.7],\n",
        "    [0.1, 0.3, 0.5],\n",
        "    [0.2, 0.4, 0.6],\n",
        "    [0.3, 0.5, 0.7],\n",
        "    [0.4, 0.6, 0.8],\n",
        "    [0.5, 0.7, 0.1]\n",
        "])\n",
        "train_y = np.array([0.5349, 0.5498, 0.5646, 0.5939, 0.5548, 0.5695, 0.5842, 0.5987, 0.5548])\n",
        "\n",
        "# Train model\n",
        "weights, bias = train_ann(train_X, train_y)\n",
        "\n",
        "# Testing Data\n",
        "test_X = np.array([\n",
        "    [0.6, 0.7, 0.8],\n",
        "    [0.7, 0.8, 0.9]\n",
        "])\n",
        "test_y = np.array([0.6083, 0.6225])\n",
        "\n",
        "# Predictions\n",
        "train_predictions = predict(train_X, weights, bias)\n",
        "test_predictions = predict(test_X, weights, bias)\n",
        "\n",
        "# MSE Calculation\n",
        "train_mse = mean_squared_error(train_y, train_predictions)\n",
        "test_mse = mean_squared_error(test_y, test_predictions)\n",
        "\n",
        "print(f\"Training MSE: {train_mse}\")\n",
        "print(f\"Testing MSE: {test_mse}\")\n",
        "\n",
        "# User Input Prediction\n",
        "x_input = np.array([float(i) for i in input(\"Enter three values separated by space: \").split()])\n",
        "output = predict(x_input, weights, bias)\n",
        "print(f\"Predicted Output: {output}\")"
      ],
      "metadata": {
        "colab": {
          "base_uri": "https://localhost:8080/"
        },
        "id": "kaxiQi26TLBc",
        "outputId": "fb2bf034-9b56-4496-fe1b-8e20667a9142"
      },
      "execution_count": 2,
      "outputs": [
        {
          "output_type": "stream",
          "name": "stdout",
          "text": [
            "Training MSE: 0.00019827266619758076\n",
            "Testing MSE: 0.0007241244444640872\n",
            "Enter three values separated by space: 0.1 0.2 0.3\n",
            "Predicted Output: 0.5110862963146233\n"
          ]
        }
      ]
    },
    {
      "cell_type": "code",
      "execution_count": null,
      "metadata": {
        "id": "q5yLpkIkSRnU"
      },
      "outputs": [],
      "source": []
    }
  ]
}